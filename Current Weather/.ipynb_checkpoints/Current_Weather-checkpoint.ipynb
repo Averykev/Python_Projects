{
 "cells": [
  {
   "cell_type": "code",
   "execution_count": 1,
   "metadata": {},
   "outputs": [],
   "source": [
    "#dependencies\n",
    "\n",
    "import csv\n",
    "import matplotlib.pyplot as plt\n",
    "import requests\n",
    "from scipy import stats\n",
    "import pandas as pd\n",
    "from pprint import pprint\n",
    "#from config import api_key"
   ]
  },
  {
   "cell_type": "code",
   "execution_count": 2,
   "metadata": {},
   "outputs": [],
   "source": [
    "url = \"http://api.weatherstack.com/current\"\n",
    "\n",
    "units = \"f\"\n",
    "\n",
    "#api_key = \"###\""
   ]
  },
  {
   "cell_type": "code",
   "execution_count": 3,
   "metadata": {},
   "outputs": [],
   "source": [
    "def check_again():\n",
    "    return input('Would you like to get the temperature of another city? (Y or N): ').lower().startswith('y')"
   ]
  },
  {
   "cell_type": "code",
   "execution_count": 7,
   "metadata": {},
   "outputs": [
    {
     "name": "stdout",
     "output_type": "stream",
     "text": [
      "What city would you like the temperature of?  phoenix\n",
      "It is really nice today in phoenix...it is currently 77 degrees and it feels like 77\n",
      "________________________________________________________\n",
      "What city would you like the temperature of?  detroit\n",
      "It is really cold today in detroit...it is only 39 degrees and it feels like only 34\n",
      "________________________________________________________\n",
      "Would you like to get the temperature of another city? (Y or N): y\n",
      "What city would you like the temperature of?  detroit\n",
      "It is really cold today in detroit...it is only 39 degrees and it feels like only 34\n",
      "________________________________________________________\n",
      "Would you like to get the temperature of another city? (Y or N): no\n",
      "Thanks for checking the weather...Have a great day!\n"
     ]
    }
   ],
   "source": [
    "while True:\n",
    "\n",
    "    city = input(\"What city would you like the temperature of?  \")\n",
    "\n",
    "    city = city.replace(\" \", \"%\")\n",
    "\n",
    "    query_url = f\"{url}?access_key={api_key}&units={units}&query={city}\"\n",
    "\n",
    "    response = requests.get(query_url).json()\n",
    "\n",
    "    current_temp = response['current']['temperature']\n",
    "\n",
    "    feels_like = response['current']['feelslike']\n",
    "\n",
    "    city = city.replace(\"%\", \" \")\n",
    "\n",
    "\n",
    "    if current_temp >= 80:\n",
    "        print(f\"It is warm today in {city}...it is currently {current_temp} degrees and it feels like {feels_like}\")\n",
    "        print(f\"________________________________________________________\")\n",
    "    \n",
    "    elif current_temp <80 and current_temp >=60:\n",
    "        print(f\"It is really nice today in {city}...it is currently {current_temp} degrees and it feels like {feels_like}\")\n",
    "        print(f\"________________________________________________________\")\n",
    "\n",
    "    \n",
    "    elif current_temp < 60 and current_temp >=40:\n",
    "        print(f\"It is a little cooler today in {city}...it is only {current_temp} degrees and it feels like {feels_like}\")\n",
    "        print(f\"________________________________________________________\")\n",
    "\n",
    "    else:\n",
    "        print(f\"It is really cold today in {city}...it is only {current_temp} degrees and it feels like only {feels_like}\")\n",
    "        print(f\"________________________________________________________\")\n",
    "        \n",
    "    if not check_again():\n",
    "        break\n",
    "\n",
    "print(f'Thanks for checking the weather...Have a great day!')\n"
   ]
  },
  {
   "cell_type": "code",
   "execution_count": null,
   "metadata": {},
   "outputs": [],
   "source": []
  }
 ],
 "metadata": {
  "kernelspec": {
   "display_name": "Python 3",
   "language": "python",
   "name": "python3"
  },
  "language_info": {
   "codemirror_mode": {
    "name": "ipython",
    "version": 3
   },
   "file_extension": ".py",
   "mimetype": "text/x-python",
   "name": "python",
   "nbconvert_exporter": "python",
   "pygments_lexer": "ipython3",
   "version": "3.7.6"
  }
 },
 "nbformat": 4,
 "nbformat_minor": 4
}
